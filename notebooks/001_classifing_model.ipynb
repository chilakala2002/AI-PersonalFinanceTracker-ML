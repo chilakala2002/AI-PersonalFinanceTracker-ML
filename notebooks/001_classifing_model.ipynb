{
 "cells": [
  {
   "metadata": {
    "ExecuteTime": {
     "end_time": "2025-03-13T21:54:34.216289Z",
     "start_time": "2025-03-13T21:54:33.474759Z"
    }
   },
   "cell_type": "code",
   "source": [
    "import pandas as pd\n",
    "import numpy as np\n",
    "from sklearn.model_selection import train_test_split\n",
    "\n",
    "# Load dataset\n",
    "file_path = \"../data/processed_data/classification_data.csv\"\n",
    "df = pd.read_csv(file_path)\n",
    "\n",
    "# Convert transaction descriptions to lowercase for consistency\n",
    "df[\"transaction_description\"] = df[\"transaction_description\"].str.lower()\n",
    "\n",
    "# Shuffle dataset to avoid biases\n",
    "df = df.sample(frac=1, random_state=42).reset_index(drop=True)\n",
    "\n",
    "# Ensure unique transaction descriptions per set\n",
    "unique_descriptions = df[\"transaction_description\"].unique()\n",
    "train_descriptions = set(np.random.choice(unique_descriptions, size=int(0.75 * len(unique_descriptions)), replace=False))\n",
    "\n",
    "# Assign train-test sets based on description uniqueness\n",
    "train_df = df[df[\"transaction_description\"].isin(train_descriptions)]\n",
    "test_df = df[~df[\"transaction_description\"].isin(train_descriptions)]\n",
    "\n",
    "# Extract Features & Labels\n",
    "X_train, y_train = train_df[\"transaction_description\"], train_df[\"merchant_category_encoded\"]\n",
    "X_test, y_test = test_df[\"transaction_description\"], test_df[\"merchant_category_encoded\"]\n",
    "\n",
    "# Print results\n",
    "print(f\" New Train-Test Split: Train Size = {X_train.shape[0]}, Test Size = {X_test.shape[0]}\")"
   ],
   "id": "4bab53a0b74faf89",
   "outputs": [
    {
     "name": "stdout",
     "output_type": "stream",
     "text": [
      " New Train-Test Split: Train Size = 122040, Test Size = 27960\n"
     ]
    }
   ],
   "execution_count": 1
  },
  {
   "metadata": {
    "ExecuteTime": {
     "end_time": "2025-03-13T21:55:01.075380Z",
     "start_time": "2025-03-13T21:55:01.054529Z"
    }
   },
   "cell_type": "code",
   "source": [
    "# Extract unique transaction descriptions from each set\n",
    "train_descriptions = set(X_train)\n",
    "test_descriptions = set(X_test)\n",
    "\n",
    "# Find overlaps\n",
    "overlapping_descriptions = train_descriptions.intersection(test_descriptions)\n",
    "\n",
    "if overlapping_descriptions:\n",
    "    print(f\" WARNING: {len(overlapping_descriptions)} overlapping transactions found! Removing from test set.\")\n",
    "\n",
    "    # Remove overlapping transactions from test set\n",
    "    test_df = test_df[~test_df[\"transaction_description\"].isin(overlapping_descriptions)]\n",
    "    X_test, y_test = test_df[\"transaction_description\"], test_df[\"merchant_category_encoded\"]\n",
    "\n",
    "    print(f\" Overlapping transactions removed! New test set size: {X_test.shape[0]}\")\n",
    "else:\n",
    "    print(\" No data leakage detected!\")"
   ],
   "id": "9455673c9dee96fa",
   "outputs": [
    {
     "name": "stdout",
     "output_type": "stream",
     "text": [
      " No data leakage detected!\n"
     ]
    }
   ],
   "execution_count": 2
  },
  {
   "metadata": {
    "ExecuteTime": {
     "end_time": "2025-03-13T21:55:16.394054Z",
     "start_time": "2025-03-13T21:55:13.392461Z"
    }
   },
   "cell_type": "code",
   "source": [
    "import tensorflow as tf\n",
    "from tensorflow.keras.preprocessing.text import Tokenizer\n",
    "from tensorflow.keras.preprocessing.sequence import pad_sequences\n",
    "import pickle\n",
    "\n",
    "# Initialize Tokenizer\n",
    "MAX_VOCAB_SIZE = 10000  # we can adjust based on data\n",
    "MAX_SEQUENCE_LENGTH = 50  # Truncate/pad to this length\n",
    "\n",
    "tokenizer = Tokenizer(num_words=MAX_VOCAB_SIZE, oov_token=\"<OOV>\")\n",
    "tokenizer.fit_on_texts(X_train)  # Fit only on training data\n",
    "\n",
    "# Convert text to sequences\n",
    "X_train_seq = tokenizer.texts_to_sequences(X_train)\n",
    "X_test_seq = tokenizer.texts_to_sequences(X_test)\n",
    "\n",
    "# Apply Padding (ensure uniform sequence length)\n",
    "X_train_padded = pad_sequences(X_train_seq, maxlen=MAX_SEQUENCE_LENGTH, padding=\"post\", truncating=\"post\")\n",
    "X_test_padded = pad_sequences(X_test_seq, maxlen=MAX_SEQUENCE_LENGTH, padding=\"post\", truncating=\"post\")\n",
    "\n",
    "# Saving Tokenizer for future inference\n",
    "with open(\"../data/models/tokenizer.pkl\", \"wb\") as file:\n",
    "    pickle.dump(tokenizer, file)\n",
    "\n",
    "print(\" Tokenization & Padding Completed!\")"
   ],
   "id": "24feedde9e32e370",
   "outputs": [
    {
     "name": "stdout",
     "output_type": "stream",
     "text": [
      " Tokenization & Padding Completed!\n"
     ]
    }
   ],
   "execution_count": 3
  },
  {
   "metadata": {
    "ExecuteTime": {
     "end_time": "2025-03-13T21:55:52.877467Z",
     "start_time": "2025-03-13T21:55:52.820833Z"
    }
   },
   "cell_type": "code",
   "source": [
    "from collections import Counter\n",
    "import numpy as np\n",
    "from sklearn.model_selection import train_test_split\n",
    "\n",
    "# Count occurrences of each class\n",
    "class_counts = Counter(y_train)\n",
    "\n",
    "# Identify classes that have only one instance\n",
    "single_instance_classes = [cls for cls, count in class_counts.items() if count < 2]\n",
    "print(f\" Classes with less than 2 samples: {single_instance_classes}\")\n",
    "\n",
    "# Filter out these classes\n",
    "keep_indices = ~np.isin(y_train, single_instance_classes)\n",
    "X_train_padded_filtered = X_train_padded[keep_indices]\n",
    "y_train_filtered = y_train[keep_indices]\n",
    "\n",
    "# Perform the final split with stratification\n",
    "X_train_final, X_test_final, y_train_final, y_test_final = train_test_split(\n",
    "    X_train_padded_filtered, y_train_filtered,\n",
    "    test_size=0.2, random_state=42, stratify=y_train_filtered\n",
    ")\n",
    "\n",
    "print(f\" Final Training Data: {X_train_final.shape}, Labels: {y_train_final.shape}\")\n",
    "print(f\" Final Testing Data: {X_test_final.shape}, Labels: {y_test_final.shape}\")"
   ],
   "id": "6487b709032a007f",
   "outputs": [
    {
     "name": "stdout",
     "output_type": "stream",
     "text": [
      " Classes with less than 2 samples: [11]\n",
      " Final Training Data: (97631, 50), Labels: (97631,)\n",
      " Final Testing Data: (24408, 50), Labels: (24408,)\n"
     ]
    }
   ],
   "execution_count": 5
  },
  {
   "metadata": {
    "ExecuteTime": {
     "end_time": "2025-03-13T21:59:33.470941Z",
     "start_time": "2025-03-13T21:59:33.454549Z"
    }
   },
   "cell_type": "code",
   "source": [
    "# Check for missing classes\n",
    "train_classes = set(y_train_final)\n",
    "test_classes = set(y_test_final)\n",
    "missing_classes = train_classes - test_classes\n",
    "\n",
    "print(f\"️ Missing classes in test set: {missing_classes}\")\n",
    "\n",
    "# Remove low-frequency classes from training set\n",
    "keep_indices = ~np.isin(y_train_final, list(missing_classes))\n",
    "X_train_final = X_train_final[keep_indices]\n",
    "y_train_final = y_train_final[keep_indices]\n",
    "\n",
    "print(f\" Updated Train Set: {X_train_final.shape}, Labels: {y_train_final.shape}\")"
   ],
   "id": "6187b513a58b3de3",
   "outputs": [
    {
     "name": "stdout",
     "output_type": "stream",
     "text": [
      "️ Missing classes in test set: {24}\n",
      " Updated Train Set: (97629, 50), Labels: (97629,)\n"
     ]
    }
   ],
   "execution_count": 6
  },
  {
   "metadata": {
    "ExecuteTime": {
     "end_time": "2025-03-13T22:01:47.040447Z",
     "start_time": "2025-03-13T22:01:47.012215Z"
    }
   },
   "cell_type": "code",
   "source": [
    "from tensorflow.keras.utils import to_categorical\n",
    "import numpy as np\n",
    "from sklearn.preprocessing import LabelEncoder\n",
    "\n",
    "# Ensure labels are sequential after removing low-sample classes\n",
    "label_encoder = LabelEncoder()\n",
    "y_train_final = label_encoder.fit_transform(y_train_filtered)\n",
    "y_test_final = label_encoder.transform(y_test_final)\n",
    "\n",
    "# Ensure correct number of classes\n",
    "num_classes = len(np.unique(y_train_final))\n",
    "\n",
    "# Convert labels to one-hot encoding\n",
    "y_train_final = to_categorical(y_train_final, num_classes=num_classes)\n",
    "y_test_final = to_categorical(y_test_final, num_classes=num_classes)\n",
    "\n",
    "# Print updated label shapes\n",
    "print(f\"y_train shape: {y_train_final.shape}\")\n",
    "print(f\"y_test shape: {y_test_final.shape}\")"
   ],
   "id": "e7d1e7f99c5d3e41",
   "outputs": [
    {
     "name": "stdout",
     "output_type": "stream",
     "text": [
      "y_train shape: (122039, 102)\n",
      "y_test shape: (24408, 102)\n"
     ]
    }
   ],
   "execution_count": 8
  },
  {
   "metadata": {
    "ExecuteTime": {
     "end_time": "2025-03-13T22:17:24.339123Z",
     "start_time": "2025-03-13T22:17:24.308203Z"
    }
   },
   "cell_type": "code",
   "source": [
    "from tensorflow.keras.models import Sequential\n",
    "from tensorflow.keras.layers import Embedding, LSTM, Dense, Dropout\n",
    "from tensorflow.keras.optimizers import Adam\n",
    "\n",
    "# Define LSTM model\n",
    "model = Sequential([\n",
    "    Embedding(input_dim=MAX_VOCAB_SIZE, output_dim=128),\n",
    "    LSTM(64, return_sequences=False),\n",
    "    Dropout(0.5),  # Increased dropout to avoid overfitting\n",
    "    Dense(num_classes, activation=\"softmax\")\n",
    "])\n",
    "\n",
    "# Compile model with a lower learning rate\n",
    "optimizer = Adam(learning_rate=0.0005)  # Slower learning rate for better generalization\n",
    "model.compile(optimizer=optimizer, loss=\"categorical_crossentropy\", metrics=[\"accuracy\"])\n",
    "\n",
    "# Print model summary to ensure correct setup\n",
    "model.build(input_shape=(None, MAX_SEQUENCE_LENGTH))\n",
    "model.summary()\n",
    "\n",
    "print(\" LSTM Model Defined Successfully!\")"
   ],
   "id": "17e409bb3a470b8c",
   "outputs": [
    {
     "data": {
      "text/plain": [
       "\u001B[1mModel: \"sequential_4\"\u001B[0m\n"
      ],
      "text/html": [
       "<pre style=\"white-space:pre;overflow-x:auto;line-height:normal;font-family:Menlo,'DejaVu Sans Mono',consolas,'Courier New',monospace\"><span style=\"font-weight: bold\">Model: \"sequential_4\"</span>\n",
       "</pre>\n"
      ]
     },
     "metadata": {},
     "output_type": "display_data"
    },
    {
     "data": {
      "text/plain": [
       "┏━━━━━━━━━━━━━━━━━━━━━━━━━━━━━━━━━┳━━━━━━━━━━━━━━━━━━━━━━━━┳━━━━━━━━━━━━━━━┓\n",
       "┃\u001B[1m \u001B[0m\u001B[1mLayer (type)                   \u001B[0m\u001B[1m \u001B[0m┃\u001B[1m \u001B[0m\u001B[1mOutput Shape          \u001B[0m\u001B[1m \u001B[0m┃\u001B[1m \u001B[0m\u001B[1m      Param #\u001B[0m\u001B[1m \u001B[0m┃\n",
       "┡━━━━━━━━━━━━━━━━━━━━━━━━━━━━━━━━━╇━━━━━━━━━━━━━━━━━━━━━━━━╇━━━━━━━━━━━━━━━┩\n",
       "│ embedding_4 (\u001B[38;5;33mEmbedding\u001B[0m)         │ (\u001B[38;5;45mNone\u001B[0m, \u001B[38;5;34m50\u001B[0m, \u001B[38;5;34m128\u001B[0m)        │     \u001B[38;5;34m1,280,000\u001B[0m │\n",
       "├─────────────────────────────────┼────────────────────────┼───────────────┤\n",
       "│ lstm_4 (\u001B[38;5;33mLSTM\u001B[0m)                   │ (\u001B[38;5;45mNone\u001B[0m, \u001B[38;5;34m64\u001B[0m)             │        \u001B[38;5;34m49,408\u001B[0m │\n",
       "├─────────────────────────────────┼────────────────────────┼───────────────┤\n",
       "│ dropout_4 (\u001B[38;5;33mDropout\u001B[0m)             │ (\u001B[38;5;45mNone\u001B[0m, \u001B[38;5;34m64\u001B[0m)             │             \u001B[38;5;34m0\u001B[0m │\n",
       "├─────────────────────────────────┼────────────────────────┼───────────────┤\n",
       "│ dense_4 (\u001B[38;5;33mDense\u001B[0m)                 │ (\u001B[38;5;45mNone\u001B[0m, \u001B[38;5;34m102\u001B[0m)            │         \u001B[38;5;34m6,630\u001B[0m │\n",
       "└─────────────────────────────────┴────────────────────────┴───────────────┘\n"
      ],
      "text/html": [
       "<pre style=\"white-space:pre;overflow-x:auto;line-height:normal;font-family:Menlo,'DejaVu Sans Mono',consolas,'Courier New',monospace\">┏━━━━━━━━━━━━━━━━━━━━━━━━━━━━━━━━━┳━━━━━━━━━━━━━━━━━━━━━━━━┳━━━━━━━━━━━━━━━┓\n",
       "┃<span style=\"font-weight: bold\"> Layer (type)                    </span>┃<span style=\"font-weight: bold\"> Output Shape           </span>┃<span style=\"font-weight: bold\">       Param # </span>┃\n",
       "┡━━━━━━━━━━━━━━━━━━━━━━━━━━━━━━━━━╇━━━━━━━━━━━━━━━━━━━━━━━━╇━━━━━━━━━━━━━━━┩\n",
       "│ embedding_4 (<span style=\"color: #0087ff; text-decoration-color: #0087ff\">Embedding</span>)         │ (<span style=\"color: #00d7ff; text-decoration-color: #00d7ff\">None</span>, <span style=\"color: #00af00; text-decoration-color: #00af00\">50</span>, <span style=\"color: #00af00; text-decoration-color: #00af00\">128</span>)        │     <span style=\"color: #00af00; text-decoration-color: #00af00\">1,280,000</span> │\n",
       "├─────────────────────────────────┼────────────────────────┼───────────────┤\n",
       "│ lstm_4 (<span style=\"color: #0087ff; text-decoration-color: #0087ff\">LSTM</span>)                   │ (<span style=\"color: #00d7ff; text-decoration-color: #00d7ff\">None</span>, <span style=\"color: #00af00; text-decoration-color: #00af00\">64</span>)             │        <span style=\"color: #00af00; text-decoration-color: #00af00\">49,408</span> │\n",
       "├─────────────────────────────────┼────────────────────────┼───────────────┤\n",
       "│ dropout_4 (<span style=\"color: #0087ff; text-decoration-color: #0087ff\">Dropout</span>)             │ (<span style=\"color: #00d7ff; text-decoration-color: #00d7ff\">None</span>, <span style=\"color: #00af00; text-decoration-color: #00af00\">64</span>)             │             <span style=\"color: #00af00; text-decoration-color: #00af00\">0</span> │\n",
       "├─────────────────────────────────┼────────────────────────┼───────────────┤\n",
       "│ dense_4 (<span style=\"color: #0087ff; text-decoration-color: #0087ff\">Dense</span>)                 │ (<span style=\"color: #00d7ff; text-decoration-color: #00d7ff\">None</span>, <span style=\"color: #00af00; text-decoration-color: #00af00\">102</span>)            │         <span style=\"color: #00af00; text-decoration-color: #00af00\">6,630</span> │\n",
       "└─────────────────────────────────┴────────────────────────┴───────────────┘\n",
       "</pre>\n"
      ]
     },
     "metadata": {},
     "output_type": "display_data"
    },
    {
     "data": {
      "text/plain": [
       "\u001B[1m Total params: \u001B[0m\u001B[38;5;34m1,336,038\u001B[0m (5.10 MB)\n"
      ],
      "text/html": [
       "<pre style=\"white-space:pre;overflow-x:auto;line-height:normal;font-family:Menlo,'DejaVu Sans Mono',consolas,'Courier New',monospace\"><span style=\"font-weight: bold\"> Total params: </span><span style=\"color: #00af00; text-decoration-color: #00af00\">1,336,038</span> (5.10 MB)\n",
       "</pre>\n"
      ]
     },
     "metadata": {},
     "output_type": "display_data"
    },
    {
     "data": {
      "text/plain": [
       "\u001B[1m Trainable params: \u001B[0m\u001B[38;5;34m1,336,038\u001B[0m (5.10 MB)\n"
      ],
      "text/html": [
       "<pre style=\"white-space:pre;overflow-x:auto;line-height:normal;font-family:Menlo,'DejaVu Sans Mono',consolas,'Courier New',monospace\"><span style=\"font-weight: bold\"> Trainable params: </span><span style=\"color: #00af00; text-decoration-color: #00af00\">1,336,038</span> (5.10 MB)\n",
       "</pre>\n"
      ]
     },
     "metadata": {},
     "output_type": "display_data"
    },
    {
     "data": {
      "text/plain": [
       "\u001B[1m Non-trainable params: \u001B[0m\u001B[38;5;34m0\u001B[0m (0.00 B)\n"
      ],
      "text/html": [
       "<pre style=\"white-space:pre;overflow-x:auto;line-height:normal;font-family:Menlo,'DejaVu Sans Mono',consolas,'Courier New',monospace\"><span style=\"font-weight: bold\"> Non-trainable params: </span><span style=\"color: #00af00; text-decoration-color: #00af00\">0</span> (0.00 B)\n",
       "</pre>\n"
      ]
     },
     "metadata": {},
     "output_type": "display_data"
    },
    {
     "name": "stdout",
     "output_type": "stream",
     "text": [
      " LSTM Model Defined Successfully!\n"
     ]
    }
   ],
   "execution_count": 14
  },
  {
   "metadata": {
    "ExecuteTime": {
     "end_time": "2025-03-13T22:21:45.997869Z",
     "start_time": "2025-03-13T22:21:45.958023Z"
    }
   },
   "cell_type": "code",
   "source": [
    "# Train the LSTM Model\n",
    "history = model.fit(\n",
    "    X_train_final, y_train_final,\n",
    "    validation_data=(X_test_final, y_test_final),\n",
    "    epochs=10,  # we can increase if needed\n",
    "    batch_size=64,  # we can adjust based on data\n",
    "    verbose=1\n",
    ")\n",
    "\n",
    "# Save the trained model\n",
    "model.save(\"../data/models/lstm_model.h5\")\n",
    "print(\" Model Training Completed & Saved!\")"
   ],
   "id": "ce7ccff59a50f544",
   "outputs": [
    {
     "ename": "ValueError",
     "evalue": "Data cardinality is ambiguous. Make sure all arrays contain the same number of samples.'x' sizes: 97629\n'y' sizes: 122039\n",
     "output_type": "error",
     "traceback": [
      "\u001B[0;31m---------------------------------------------------------------------------\u001B[0m",
      "\u001B[0;31mValueError\u001B[0m                                Traceback (most recent call last)",
      "Cell \u001B[0;32mIn[15], line 2\u001B[0m\n\u001B[1;32m      1\u001B[0m \u001B[38;5;66;03m# Train the LSTM Model\u001B[39;00m\n\u001B[0;32m----> 2\u001B[0m history \u001B[38;5;241m=\u001B[39m \u001B[43mmodel\u001B[49m\u001B[38;5;241;43m.\u001B[39;49m\u001B[43mfit\u001B[49m\u001B[43m(\u001B[49m\n\u001B[1;32m      3\u001B[0m \u001B[43m    \u001B[49m\u001B[43mX_train_final\u001B[49m\u001B[43m,\u001B[49m\u001B[43m \u001B[49m\u001B[43my_train_final\u001B[49m\u001B[43m,\u001B[49m\n\u001B[1;32m      4\u001B[0m \u001B[43m    \u001B[49m\u001B[43mvalidation_data\u001B[49m\u001B[38;5;241;43m=\u001B[39;49m\u001B[43m(\u001B[49m\u001B[43mX_test_final\u001B[49m\u001B[43m,\u001B[49m\u001B[43m \u001B[49m\u001B[43my_test_final\u001B[49m\u001B[43m)\u001B[49m\u001B[43m,\u001B[49m\n\u001B[1;32m      5\u001B[0m \u001B[43m    \u001B[49m\u001B[43mepochs\u001B[49m\u001B[38;5;241;43m=\u001B[39;49m\u001B[38;5;241;43m10\u001B[39;49m\u001B[43m,\u001B[49m\u001B[43m  \u001B[49m\u001B[38;5;66;43;03m# You can increase if needed\u001B[39;49;00m\n\u001B[1;32m      6\u001B[0m \u001B[43m    \u001B[49m\u001B[43mbatch_size\u001B[49m\u001B[38;5;241;43m=\u001B[39;49m\u001B[38;5;241;43m64\u001B[39;49m\u001B[43m,\u001B[49m\u001B[43m  \u001B[49m\u001B[38;5;66;43;03m# Adjust based on dataset size\u001B[39;49;00m\n\u001B[1;32m      7\u001B[0m \u001B[43m    \u001B[49m\u001B[43mverbose\u001B[49m\u001B[38;5;241;43m=\u001B[39;49m\u001B[38;5;241;43m1\u001B[39;49m\n\u001B[1;32m      8\u001B[0m \u001B[43m)\u001B[49m\n\u001B[1;32m     10\u001B[0m \u001B[38;5;66;03m# Save the trained model\u001B[39;00m\n\u001B[1;32m     11\u001B[0m model\u001B[38;5;241m.\u001B[39msave(\u001B[38;5;124m\"\u001B[39m\u001B[38;5;124m../data/models/lstm_model.h5\u001B[39m\u001B[38;5;124m\"\u001B[39m)\n",
      "File \u001B[0;32m~/AI-PersonalFinanceTracker-ML/.venv/lib/python3.10/site-packages/keras/src/utils/traceback_utils.py:122\u001B[0m, in \u001B[0;36mfilter_traceback.<locals>.error_handler\u001B[0;34m(*args, **kwargs)\u001B[0m\n\u001B[1;32m    119\u001B[0m     filtered_tb \u001B[38;5;241m=\u001B[39m _process_traceback_frames(e\u001B[38;5;241m.\u001B[39m__traceback__)\n\u001B[1;32m    120\u001B[0m     \u001B[38;5;66;03m# To get the full stack trace, call:\u001B[39;00m\n\u001B[1;32m    121\u001B[0m     \u001B[38;5;66;03m# `keras.config.disable_traceback_filtering()`\u001B[39;00m\n\u001B[0;32m--> 122\u001B[0m     \u001B[38;5;28;01mraise\u001B[39;00m e\u001B[38;5;241m.\u001B[39mwith_traceback(filtered_tb) \u001B[38;5;28;01mfrom\u001B[39;00m\u001B[38;5;250m \u001B[39m\u001B[38;5;28;01mNone\u001B[39;00m\n\u001B[1;32m    123\u001B[0m \u001B[38;5;28;01mfinally\u001B[39;00m:\n\u001B[1;32m    124\u001B[0m     \u001B[38;5;28;01mdel\u001B[39;00m filtered_tb\n",
      "File \u001B[0;32m~/AI-PersonalFinanceTracker-ML/.venv/lib/python3.10/site-packages/keras/src/trainers/data_adapters/data_adapter_utils.py:115\u001B[0m, in \u001B[0;36mcheck_data_cardinality\u001B[0;34m(data)\u001B[0m\n\u001B[1;32m    111\u001B[0m     sizes \u001B[38;5;241m=\u001B[39m \u001B[38;5;124m\"\u001B[39m\u001B[38;5;124m, \u001B[39m\u001B[38;5;124m\"\u001B[39m\u001B[38;5;241m.\u001B[39mjoin(\n\u001B[1;32m    112\u001B[0m         \u001B[38;5;28mstr\u001B[39m(i\u001B[38;5;241m.\u001B[39mshape[\u001B[38;5;241m0\u001B[39m]) \u001B[38;5;28;01mfor\u001B[39;00m i \u001B[38;5;129;01min\u001B[39;00m tree\u001B[38;5;241m.\u001B[39mflatten(single_data)\n\u001B[1;32m    113\u001B[0m     )\n\u001B[1;32m    114\u001B[0m     msg \u001B[38;5;241m+\u001B[39m\u001B[38;5;241m=\u001B[39m \u001B[38;5;124mf\u001B[39m\u001B[38;5;124m\"\u001B[39m\u001B[38;5;124m'\u001B[39m\u001B[38;5;132;01m{\u001B[39;00mlabel\u001B[38;5;132;01m}\u001B[39;00m\u001B[38;5;124m'\u001B[39m\u001B[38;5;124m sizes: \u001B[39m\u001B[38;5;132;01m{\u001B[39;00msizes\u001B[38;5;132;01m}\u001B[39;00m\u001B[38;5;130;01m\\n\u001B[39;00m\u001B[38;5;124m\"\u001B[39m\n\u001B[0;32m--> 115\u001B[0m \u001B[38;5;28;01mraise\u001B[39;00m \u001B[38;5;167;01mValueError\u001B[39;00m(msg)\n",
      "\u001B[0;31mValueError\u001B[0m: Data cardinality is ambiguous. Make sure all arrays contain the same number of samples.'x' sizes: 97629\n'y' sizes: 122039\n"
     ]
    }
   ],
   "execution_count": 15
  },
  {
   "metadata": {
    "ExecuteTime": {
     "end_time": "2025-03-13T22:24:34.178185Z",
     "start_time": "2025-03-13T22:24:34.175184Z"
    }
   },
   "cell_type": "code",
   "source": [
    "print(f\"X_train_final shape: {X_train_final.shape}\")\n",
    "print(f\"y_train_final shape: {y_train_final.shape}\")"
   ],
   "id": "19d643990295d67e",
   "outputs": [
    {
     "name": "stdout",
     "output_type": "stream",
     "text": [
      "X_train_final shape: (97629, 50)\n",
      "y_train_final shape: (122039, 102)\n"
     ]
    }
   ],
   "execution_count": 16
  },
  {
   "metadata": {
    "ExecuteTime": {
     "end_time": "2025-03-13T22:25:27.209007Z",
     "start_time": "2025-03-13T22:25:27.205368Z"
    }
   },
   "cell_type": "code",
   "source": [
    "print(f\"Before Filtering - X_train_padded: {X_train_padded.shape}, y_train: {y_train.shape}\")\n",
    "print(f\"After Filtering - X_train_padded_filtered: {X_train_padded_filtered.shape}, y_train_filtered: {y_train_filtered.shape}\")"
   ],
   "id": "1b290979c636ca33",
   "outputs": [
    {
     "name": "stdout",
     "output_type": "stream",
     "text": [
      "Before Filtering - X_train_padded: (122040, 50), y_train: (122040,)\n",
      "After Filtering - X_train_padded_filtered: (122039, 50), y_train_filtered: (122039,)\n"
     ]
    }
   ],
   "execution_count": 17
  },
  {
   "metadata": {
    "ExecuteTime": {
     "end_time": "2025-03-13T22:27:20.919193Z",
     "start_time": "2025-03-13T22:27:20.873932Z"
    }
   },
   "cell_type": "code",
   "source": [
    "# Perform the final split with stratification\n",
    "X_train_final, X_test_final, y_train_final, y_test_final = train_test_split(\n",
    "    X_train_padded_filtered[:len(y_train_filtered)],  # Ensure matching lengths\n",
    "    y_train_filtered,\n",
    "    test_size=0.2,\n",
    "    random_state=42,\n",
    "    stratify=y_train_filtered\n",
    ")"
   ],
   "id": "5bb8bd5716cbc3e0",
   "outputs": [],
   "execution_count": 18
  },
  {
   "metadata": {
    "ExecuteTime": {
     "end_time": "2025-03-13T22:27:32.040707Z",
     "start_time": "2025-03-13T22:27:32.036960Z"
    }
   },
   "cell_type": "code",
   "source": [
    "print(f\" Final Training Data: {X_train_final.shape}, Labels: {y_train_final.shape}\")\n",
    "print(f\" Final Testing Data: {X_test_final.shape}, Labels: {y_test_final.shape}\")"
   ],
   "id": "27bc39285c6e02fc",
   "outputs": [
    {
     "name": "stdout",
     "output_type": "stream",
     "text": [
      " Final Training Data: (97631, 50), Labels: (97631,)\n",
      " Final Testing Data: (24408, 50), Labels: (24408,)\n"
     ]
    }
   ],
   "execution_count": 19
  },
  {
   "metadata": {
    "ExecuteTime": {
     "end_time": "2025-03-13T22:27:56.436099Z",
     "start_time": "2025-03-13T22:27:56.428562Z"
    }
   },
   "cell_type": "code",
   "source": [
    "print(f\"Unique classes in y_train_final: {len(np.unique(y_train_final))}\")\n",
    "print(f\"Unique classes in y_test_final: {len(np.unique(y_test_final))}\")"
   ],
   "id": "2a483606f50ef651",
   "outputs": [
    {
     "name": "stdout",
     "output_type": "stream",
     "text": [
      "Unique classes in y_train_final: 102\n",
      "Unique classes in y_test_final: 101\n"
     ]
    }
   ],
   "execution_count": 20
  },
  {
   "metadata": {
    "ExecuteTime": {
     "end_time": "2025-03-13T22:30:50.144835Z",
     "start_time": "2025-03-13T22:30:50.123794Z"
    }
   },
   "cell_type": "code",
   "source": [
    "from sklearn.preprocessing import LabelEncoder\n",
    "from tensorflow.keras.utils import to_categorical\n",
    "import numpy as np\n",
    "\n",
    "# encode labels to ensure they are sequential\n",
    "label_encoder = LabelEncoder()\n",
    "y_train_final = label_encoder.fit_transform(y_train_final)\n",
    "y_test_final = label_encoder.transform(y_test_final)  # Transform using train mapping\n",
    "\n",
    "# Ensure correct number of classes\n",
    "num_classes = len(np.unique(y_train_final))\n",
    "\n",
    "# Convert labels to one-hot encoding\n",
    "y_train_final = to_categorical(y_train_final, num_classes=num_classes)\n",
    "y_test_final = to_categorical(y_test_final, num_classes=num_classes)\n",
    "\n",
    "# Print updated label shapes\n",
    "print(f\" Updated y_train shape: {y_train_final.shape}\")\n",
    "print(f\" Updated y_test shape: {y_test_final.shape}\")\n",
    "print(f\" Number of classes after encoding: {num_classes}\")"
   ],
   "id": "cef2bbe3eafa9d84",
   "outputs": [
    {
     "name": "stdout",
     "output_type": "stream",
     "text": [
      " Updated y_train shape: (97631, 102)\n",
      " Updated y_test shape: (24408, 102)\n",
      " Number of classes after encoding: 102\n"
     ]
    }
   ],
   "execution_count": 22
  },
  {
   "metadata": {
    "ExecuteTime": {
     "end_time": "2025-03-13T22:31:54.554597Z",
     "start_time": "2025-03-13T22:31:54.529293Z"
    }
   },
   "cell_type": "code",
   "source": [
    "from tensorflow.keras.models import Sequential\n",
    "from tensorflow.keras.layers import Embedding, LSTM, Dense, Dropout\n",
    "from tensorflow.keras.optimizers import Adam\n",
    "\n",
    "# Define LSTM model\n",
    "model = Sequential([\n",
    "    Embedding(input_dim=MAX_VOCAB_SIZE, output_dim=128, input_length=MAX_SEQUENCE_LENGTH),\n",
    "    LSTM(64, return_sequences=False),\n",
    "    Dropout(0.5),  # Increased dropout to avoid overfitting\n",
    "    Dense(num_classes, activation=\"softmax\")\n",
    "])\n",
    "\n",
    "# Compile model with a lower learning rate\n",
    "optimizer = Adam(learning_rate=0.0005)  # Slower learning rate for better generalization\n",
    "model.compile(optimizer=optimizer, loss=\"categorical_crossentropy\", metrics=[\"accuracy\"])\n",
    "\n",
    "# Print model summary to ensure correct setup\n",
    "model.build(input_shape=(None, MAX_SEQUENCE_LENGTH))\n",
    "model.summary()\n",
    "\n",
    "print(\"LSTM Model Defined Successfully!\")"
   ],
   "id": "fb00d20c6b449e06",
   "outputs": [
    {
     "name": "stderr",
     "output_type": "stream",
     "text": [
      "/Users/saiajaychilakala/AI-PersonalFinanceTracker-ML/.venv/lib/python3.10/site-packages/keras/src/layers/core/embedding.py:90: UserWarning: Argument `input_length` is deprecated. Just remove it.\n",
      "  warnings.warn(\n"
     ]
    },
    {
     "data": {
      "text/plain": [
       "\u001B[1mModel: \"sequential_5\"\u001B[0m\n"
      ],
      "text/html": [
       "<pre style=\"white-space:pre;overflow-x:auto;line-height:normal;font-family:Menlo,'DejaVu Sans Mono',consolas,'Courier New',monospace\"><span style=\"font-weight: bold\">Model: \"sequential_5\"</span>\n",
       "</pre>\n"
      ]
     },
     "metadata": {},
     "output_type": "display_data"
    },
    {
     "data": {
      "text/plain": [
       "┏━━━━━━━━━━━━━━━━━━━━━━━━━━━━━━━━━┳━━━━━━━━━━━━━━━━━━━━━━━━┳━━━━━━━━━━━━━━━┓\n",
       "┃\u001B[1m \u001B[0m\u001B[1mLayer (type)                   \u001B[0m\u001B[1m \u001B[0m┃\u001B[1m \u001B[0m\u001B[1mOutput Shape          \u001B[0m\u001B[1m \u001B[0m┃\u001B[1m \u001B[0m\u001B[1m      Param #\u001B[0m\u001B[1m \u001B[0m┃\n",
       "┡━━━━━━━━━━━━━━━━━━━━━━━━━━━━━━━━━╇━━━━━━━━━━━━━━━━━━━━━━━━╇━━━━━━━━━━━━━━━┩\n",
       "│ embedding_5 (\u001B[38;5;33mEmbedding\u001B[0m)         │ (\u001B[38;5;45mNone\u001B[0m, \u001B[38;5;34m50\u001B[0m, \u001B[38;5;34m128\u001B[0m)        │     \u001B[38;5;34m1,280,000\u001B[0m │\n",
       "├─────────────────────────────────┼────────────────────────┼───────────────┤\n",
       "│ lstm_5 (\u001B[38;5;33mLSTM\u001B[0m)                   │ (\u001B[38;5;45mNone\u001B[0m, \u001B[38;5;34m64\u001B[0m)             │        \u001B[38;5;34m49,408\u001B[0m │\n",
       "├─────────────────────────────────┼────────────────────────┼───────────────┤\n",
       "│ dropout_5 (\u001B[38;5;33mDropout\u001B[0m)             │ (\u001B[38;5;45mNone\u001B[0m, \u001B[38;5;34m64\u001B[0m)             │             \u001B[38;5;34m0\u001B[0m │\n",
       "├─────────────────────────────────┼────────────────────────┼───────────────┤\n",
       "│ dense_5 (\u001B[38;5;33mDense\u001B[0m)                 │ (\u001B[38;5;45mNone\u001B[0m, \u001B[38;5;34m102\u001B[0m)            │         \u001B[38;5;34m6,630\u001B[0m │\n",
       "└─────────────────────────────────┴────────────────────────┴───────────────┘\n"
      ],
      "text/html": [
       "<pre style=\"white-space:pre;overflow-x:auto;line-height:normal;font-family:Menlo,'DejaVu Sans Mono',consolas,'Courier New',monospace\">┏━━━━━━━━━━━━━━━━━━━━━━━━━━━━━━━━━┳━━━━━━━━━━━━━━━━━━━━━━━━┳━━━━━━━━━━━━━━━┓\n",
       "┃<span style=\"font-weight: bold\"> Layer (type)                    </span>┃<span style=\"font-weight: bold\"> Output Shape           </span>┃<span style=\"font-weight: bold\">       Param # </span>┃\n",
       "┡━━━━━━━━━━━━━━━━━━━━━━━━━━━━━━━━━╇━━━━━━━━━━━━━━━━━━━━━━━━╇━━━━━━━━━━━━━━━┩\n",
       "│ embedding_5 (<span style=\"color: #0087ff; text-decoration-color: #0087ff\">Embedding</span>)         │ (<span style=\"color: #00d7ff; text-decoration-color: #00d7ff\">None</span>, <span style=\"color: #00af00; text-decoration-color: #00af00\">50</span>, <span style=\"color: #00af00; text-decoration-color: #00af00\">128</span>)        │     <span style=\"color: #00af00; text-decoration-color: #00af00\">1,280,000</span> │\n",
       "├─────────────────────────────────┼────────────────────────┼───────────────┤\n",
       "│ lstm_5 (<span style=\"color: #0087ff; text-decoration-color: #0087ff\">LSTM</span>)                   │ (<span style=\"color: #00d7ff; text-decoration-color: #00d7ff\">None</span>, <span style=\"color: #00af00; text-decoration-color: #00af00\">64</span>)             │        <span style=\"color: #00af00; text-decoration-color: #00af00\">49,408</span> │\n",
       "├─────────────────────────────────┼────────────────────────┼───────────────┤\n",
       "│ dropout_5 (<span style=\"color: #0087ff; text-decoration-color: #0087ff\">Dropout</span>)             │ (<span style=\"color: #00d7ff; text-decoration-color: #00d7ff\">None</span>, <span style=\"color: #00af00; text-decoration-color: #00af00\">64</span>)             │             <span style=\"color: #00af00; text-decoration-color: #00af00\">0</span> │\n",
       "├─────────────────────────────────┼────────────────────────┼───────────────┤\n",
       "│ dense_5 (<span style=\"color: #0087ff; text-decoration-color: #0087ff\">Dense</span>)                 │ (<span style=\"color: #00d7ff; text-decoration-color: #00d7ff\">None</span>, <span style=\"color: #00af00; text-decoration-color: #00af00\">102</span>)            │         <span style=\"color: #00af00; text-decoration-color: #00af00\">6,630</span> │\n",
       "└─────────────────────────────────┴────────────────────────┴───────────────┘\n",
       "</pre>\n"
      ]
     },
     "metadata": {},
     "output_type": "display_data"
    },
    {
     "data": {
      "text/plain": [
       "\u001B[1m Total params: \u001B[0m\u001B[38;5;34m1,336,038\u001B[0m (5.10 MB)\n"
      ],
      "text/html": [
       "<pre style=\"white-space:pre;overflow-x:auto;line-height:normal;font-family:Menlo,'DejaVu Sans Mono',consolas,'Courier New',monospace\"><span style=\"font-weight: bold\"> Total params: </span><span style=\"color: #00af00; text-decoration-color: #00af00\">1,336,038</span> (5.10 MB)\n",
       "</pre>\n"
      ]
     },
     "metadata": {},
     "output_type": "display_data"
    },
    {
     "data": {
      "text/plain": [
       "\u001B[1m Trainable params: \u001B[0m\u001B[38;5;34m1,336,038\u001B[0m (5.10 MB)\n"
      ],
      "text/html": [
       "<pre style=\"white-space:pre;overflow-x:auto;line-height:normal;font-family:Menlo,'DejaVu Sans Mono',consolas,'Courier New',monospace\"><span style=\"font-weight: bold\"> Trainable params: </span><span style=\"color: #00af00; text-decoration-color: #00af00\">1,336,038</span> (5.10 MB)\n",
       "</pre>\n"
      ]
     },
     "metadata": {},
     "output_type": "display_data"
    },
    {
     "data": {
      "text/plain": [
       "\u001B[1m Non-trainable params: \u001B[0m\u001B[38;5;34m0\u001B[0m (0.00 B)\n"
      ],
      "text/html": [
       "<pre style=\"white-space:pre;overflow-x:auto;line-height:normal;font-family:Menlo,'DejaVu Sans Mono',consolas,'Courier New',monospace\"><span style=\"font-weight: bold\"> Non-trainable params: </span><span style=\"color: #00af00; text-decoration-color: #00af00\">0</span> (0.00 B)\n",
       "</pre>\n"
      ]
     },
     "metadata": {},
     "output_type": "display_data"
    },
    {
     "name": "stdout",
     "output_type": "stream",
     "text": [
      "LSTM Model Defined Successfully!\n"
     ]
    }
   ],
   "execution_count": 23
  },
  {
   "metadata": {
    "ExecuteTime": {
     "end_time": "2025-03-13T22:42:30.645986Z",
     "start_time": "2025-03-13T22:33:34.262606Z"
    }
   },
   "cell_type": "code",
   "source": [
    "# Train the LSTM Model\n",
    "history = model.fit(\n",
    "    X_train_final, y_train_final,\n",
    "    validation_data=(X_test_final, y_test_final),\n",
    "    epochs=10,  # we can increase this if needed\n",
    "    batch_size=64,\n",
    "    verbose=1\n",
    ")\n",
    "\n",
    "# Save the trained model\n",
    "model.save(\"../data/models/lstm_model.h5\")\n",
    "print(\" Model Training Completed & Saved!\")"
   ],
   "id": "e6c7084a41f02831",
   "outputs": [
    {
     "name": "stdout",
     "output_type": "stream",
     "text": [
      "Epoch 1/10\n",
      "\u001B[1m1526/1526\u001B[0m \u001B[32m━━━━━━━━━━━━━━━━━━━━\u001B[0m\u001B[37m\u001B[0m \u001B[1m38s\u001B[0m 24ms/step - accuracy: 0.1053 - loss: 3.4446 - val_accuracy: 0.1323 - val_loss: 3.1882\n",
      "Epoch 2/10\n",
      "\u001B[1m1526/1526\u001B[0m \u001B[32m━━━━━━━━━━━━━━━━━━━━\u001B[0m\u001B[37m\u001B[0m \u001B[1m44s\u001B[0m 29ms/step - accuracy: 0.1327 - loss: 3.1416 - val_accuracy: 0.2324 - val_loss: 2.3804\n",
      "Epoch 3/10\n",
      "\u001B[1m1526/1526\u001B[0m \u001B[32m━━━━━━━━━━━━━━━━━━━━\u001B[0m\u001B[37m\u001B[0m \u001B[1m45s\u001B[0m 30ms/step - accuracy: 0.2806 - loss: 2.1409 - val_accuracy: 0.3056 - val_loss: 1.9432\n",
      "Epoch 4/10\n",
      "\u001B[1m1526/1526\u001B[0m \u001B[32m━━━━━━━━━━━━━━━━━━━━\u001B[0m\u001B[37m\u001B[0m \u001B[1m122s\u001B[0m 80ms/step - accuracy: 0.2774 - loss: 1.9880 - val_accuracy: 0.2848 - val_loss: 1.9315\n",
      "Epoch 5/10\n",
      "\u001B[1m1526/1526\u001B[0m \u001B[32m━━━━━━━━━━━━━━━━━━━━\u001B[0m\u001B[37m\u001B[0m \u001B[1m51s\u001B[0m 34ms/step - accuracy: 0.2856 - loss: 1.9815 - val_accuracy: 0.3434 - val_loss: 1.8170\n",
      "Epoch 6/10\n",
      "\u001B[1m1526/1526\u001B[0m \u001B[32m━━━━━━━━━━━━━━━━━━━━\u001B[0m\u001B[37m\u001B[0m \u001B[1m43s\u001B[0m 28ms/step - accuracy: 0.3230 - loss: 1.8593 - val_accuracy: 0.3556 - val_loss: 1.7624\n",
      "Epoch 7/10\n",
      "\u001B[1m1526/1526\u001B[0m \u001B[32m━━━━━━━━━━━━━━━━━━━━\u001B[0m\u001B[37m\u001B[0m \u001B[1m44s\u001B[0m 29ms/step - accuracy: 0.3434 - loss: 1.8460 - val_accuracy: 0.4833 - val_loss: 1.4764\n",
      "Epoch 8/10\n",
      "\u001B[1m1526/1526\u001B[0m \u001B[32m━━━━━━━━━━━━━━━━━━━━\u001B[0m\u001B[37m\u001B[0m \u001B[1m51s\u001B[0m 33ms/step - accuracy: 0.4513 - loss: 1.5072 - val_accuracy: 0.6099 - val_loss: 1.2737\n",
      "Epoch 9/10\n",
      "\u001B[1m1526/1526\u001B[0m \u001B[32m━━━━━━━━━━━━━━━━━━━━\u001B[0m\u001B[37m\u001B[0m \u001B[1m50s\u001B[0m 33ms/step - accuracy: 0.5402 - loss: 1.2844 - val_accuracy: 0.8567 - val_loss: 0.6513\n",
      "Epoch 10/10\n",
      "\u001B[1m1526/1526\u001B[0m \u001B[32m━━━━━━━━━━━━━━━━━━━━\u001B[0m\u001B[37m\u001B[0m \u001B[1m47s\u001B[0m 31ms/step - accuracy: 0.6537 - loss: 0.9367 - val_accuracy: 0.7967 - val_loss: 0.6094\n"
     ]
    },
    {
     "name": "stderr",
     "output_type": "stream",
     "text": [
      "WARNING:absl:You are saving your model as an HDF5 file via `model.save()` or `keras.saving.save_model(model)`. This file format is considered legacy. We recommend using instead the native Keras format, e.g. `model.save('my_model.keras')` or `keras.saving.save_model(model, 'my_model.keras')`. \n"
     ]
    },
    {
     "name": "stdout",
     "output_type": "stream",
     "text": [
      " Model Training Completed & Saved!\n"
     ]
    }
   ],
   "execution_count": 24
  },
  {
   "metadata": {
    "ExecuteTime": {
     "end_time": "2025-03-13T22:44:30.616074Z",
     "start_time": "2025-03-13T22:44:27.843125Z"
    }
   },
   "cell_type": "code",
   "source": [
    "# Evaluate the trained LSTM model\n",
    "test_loss, test_accuracy = model.evaluate(X_test_final, y_test_final, verbose=1)\n",
    "\n",
    "# Print evaluation results\n",
    "print(f\" Model Evaluation Completed!\")\n",
    "print(f\" Test Accuracy: {test_accuracy:.4f}\")\n",
    "print(f\" Test Loss: {test_loss:.4f}\")"
   ],
   "id": "1bb63742690f9663",
   "outputs": [
    {
     "name": "stdout",
     "output_type": "stream",
     "text": [
      "\u001B[1m763/763\u001B[0m \u001B[32m━━━━━━━━━━━━━━━━━━━━\u001B[0m\u001B[37m\u001B[0m \u001B[1m3s\u001B[0m 4ms/step - accuracy: 0.7999 - loss: 0.6056\n",
      " Model Evaluation Completed!\n",
      " Test Accuracy: 0.7967\n",
      " Test Loss: 0.6094\n"
     ]
    }
   ],
   "execution_count": 25
  },
  {
   "metadata": {
    "ExecuteTime": {
     "end_time": "2025-03-13T22:46:27.770325Z",
     "start_time": "2025-03-13T22:46:21.380312Z"
    }
   },
   "cell_type": "code",
   "source": [
    "from sklearn.metrics import classification_report, confusion_matrix\n",
    "import numpy as np\n",
    "import seaborn as sns\n",
    "import matplotlib.pyplot as plt\n",
    "\n",
    "# Get model predictions\n",
    "y_pred_probs = model.predict(X_test_final)  # Get probability scores\n",
    "y_pred = np.argmax(y_pred_probs, axis=1)  # Convert to class predictions\n",
    "y_true = np.argmax(y_test_final, axis=1)  # Get actual class labels\n",
    "\n",
    "# Generate classification report\n",
    "print(\" Classification Report:\\n\", classification_report(y_true, y_pred))\n",
    "\n",
    "# Compute confusion matrix\n",
    "conf_matrix = confusion_matrix(y_true, y_pred)\n",
    "\n",
    "# Plot confusion matrix\n",
    "plt.figure(figsize=(12, 8))\n",
    "sns.heatmap(conf_matrix, annot=True, fmt=\"d\", cmap=\"Blues\", xticklabels=np.unique(y_true), yticklabels=np.unique(y_true))\n",
    "plt.xlabel(\"Predicted Label\")\n",
    "plt.ylabel(\"True Label\")\n",
    "plt.title(\"Confusion Matrix\")\n",
    "plt.show()"
   ],
   "id": "1fb5101716b7c1e4",
   "outputs": [
    {
     "name": "stdout",
     "output_type": "stream",
     "text": [
      "\u001B[1m763/763\u001B[0m \u001B[32m━━━━━━━━━━━━━━━━━━━━\u001B[0m\u001B[37m\u001B[0m \u001B[1m3s\u001B[0m 4ms/step\n",
      " Classification Report:\n",
      "               precision    recall  f1-score   support\n",
      "\n",
      "           0       0.00      0.00      0.00         4\n",
      "           1       0.00      0.00      0.00         3\n",
      "           2       0.00      0.00      0.00        18\n",
      "           3       0.00      0.00      0.00         9\n",
      "           4       1.00      1.00      1.00        96\n",
      "           5       0.00      0.00      0.00         1\n",
      "           6       0.00      0.00      0.00         1\n",
      "           7       1.00      1.00      1.00      1080\n",
      "           8       1.00      1.00      1.00       164\n",
      "           9       0.08      1.00      0.14        69\n",
      "          10       1.00      1.00      1.00       397\n",
      "          11       0.00      0.00      0.00         7\n",
      "          12       0.00      0.00      0.00         5\n",
      "          13       0.00      0.00      0.00        77\n",
      "          14       0.68      1.00      0.81        86\n",
      "          15       0.00      0.00      0.00        24\n",
      "          16       0.00      0.00      0.00        74\n",
      "          17       0.00      0.00      0.00         1\n",
      "          18       0.00      0.00      0.00        23\n",
      "          19       0.00      0.00      0.00         5\n",
      "          20       0.00      0.00      0.00        11\n",
      "          22       0.00      0.00      0.00        77\n",
      "          23       1.00      1.00      1.00       699\n",
      "          24       0.00      0.00      0.00        18\n",
      "          25       1.00      1.00      1.00       142\n",
      "          26       0.00      0.00      0.00       414\n",
      "          27       0.00      0.00      0.00        57\n",
      "          28       0.90      1.00      0.95       382\n",
      "          29       0.76      1.00      0.86      1731\n",
      "          30       0.37      0.75      0.50      1804\n",
      "          31       0.00      0.00      0.00        11\n",
      "          32       0.00      0.00      0.00        11\n",
      "          33       0.00      0.00      0.00         1\n",
      "          34       0.95      1.00      0.97       166\n",
      "          35       0.00      0.00      0.00       557\n",
      "          36       0.00      0.00      0.00         1\n",
      "          37       0.00      0.00      0.00        24\n",
      "          38       0.00      0.00      0.00         9\n",
      "          39       0.00      0.00      0.00        26\n",
      "          40       0.00      0.00      0.00         5\n",
      "          41       1.00      1.00      1.00      2728\n",
      "          42       0.00      0.00      0.00        53\n",
      "          43       0.00      0.00      0.00        17\n",
      "          44       0.00      0.00      0.00         8\n",
      "          45       0.00      0.00      0.00         8\n",
      "          46       0.00      0.00      0.00         1\n",
      "          47       0.00      0.00      0.00        23\n",
      "          48       1.00      0.58      0.74        77\n",
      "          49       0.00      0.00      0.00        11\n",
      "          50       0.00      0.00      0.00        72\n",
      "          51       0.00      0.00      0.00         5\n",
      "          52       0.00      0.00      0.00         4\n",
      "          53       0.00      0.00      0.00        34\n",
      "          54       1.00      1.00      1.00       119\n",
      "          55       0.00      0.00      0.00        27\n",
      "          56       1.00      1.00      1.00       393\n",
      "          57       0.00      0.00      0.00        13\n",
      "          58       0.00      0.00      0.00         1\n",
      "          59       1.00      1.00      1.00      2190\n",
      "          60       1.00      1.00      1.00       195\n",
      "          61       0.00      0.00      0.00        10\n",
      "          62       0.00      0.00      0.00         1\n",
      "          63       0.00      0.00      0.00         7\n",
      "          64       0.00      0.00      0.00        11\n",
      "          65       1.00      1.00      1.00       976\n",
      "          66       1.00      1.00      1.00       324\n",
      "          67       1.00      1.00      1.00       156\n",
      "          68       0.00      0.00      0.00        16\n",
      "          69       0.00      0.00      0.00        23\n",
      "          70       0.00      0.00      0.00        28\n",
      "          71       1.00      1.00      1.00       286\n",
      "          72       0.00      0.00      0.00        28\n",
      "          73       0.00      0.00      0.00        26\n",
      "          74       0.19      1.00      0.32        75\n",
      "          75       0.00      0.00      0.00         4\n",
      "          76       0.00      0.00      0.00        12\n",
      "          77       0.00      0.00      0.00        35\n",
      "          78       0.00      0.00      0.00        10\n",
      "          79       0.00      0.00      0.00        25\n",
      "          80       0.00      0.00      0.00        22\n",
      "          81       0.88      1.00      0.94      3229\n",
      "          82       0.00      0.00      0.00        24\n",
      "          83       0.00      0.00      0.00        21\n",
      "          84       0.00      0.00      0.00         3\n",
      "          85       0.00      0.00      0.00        15\n",
      "          86       0.00      0.00      0.00         1\n",
      "          87       0.00      0.00      0.00         7\n",
      "          88       0.00      0.00      0.00         4\n",
      "          89       0.00      0.00      0.00         4\n",
      "          90       0.00      0.00      0.00      1129\n",
      "          91       1.00      1.00      1.00       493\n",
      "          92       0.86      1.00      0.93        88\n",
      "          93       0.00      0.00      0.00      1145\n",
      "          94       0.00      0.00      0.00         6\n",
      "          95       0.00      0.00      0.00         3\n",
      "          96       0.00      0.00      0.00        74\n",
      "          97       0.00      0.00      0.00         4\n",
      "          98       1.00      1.00      1.00       414\n",
      "          99       0.00      0.00      0.00        11\n",
      "         100       0.77      1.00      0.87      1366\n",
      "         101       0.00      0.00      0.00        23\n",
      "\n",
      "    accuracy                           0.80     24408\n",
      "   macro avg       0.24      0.27      0.25     24408\n",
      "weighted avg       0.71      0.80      0.75     24408\n",
      "\n"
     ]
    },
    {
     "name": "stderr",
     "output_type": "stream",
     "text": [
      "/Users/saiajaychilakala/AI-PersonalFinanceTracker-ML/.venv/lib/python3.10/site-packages/sklearn/metrics/_classification.py:1565: UndefinedMetricWarning: Precision is ill-defined and being set to 0.0 in labels with no predicted samples. Use `zero_division` parameter to control this behavior.\n",
      "  _warn_prf(average, modifier, f\"{metric.capitalize()} is\", len(result))\n",
      "/Users/saiajaychilakala/AI-PersonalFinanceTracker-ML/.venv/lib/python3.10/site-packages/sklearn/metrics/_classification.py:1565: UndefinedMetricWarning: Precision is ill-defined and being set to 0.0 in labels with no predicted samples. Use `zero_division` parameter to control this behavior.\n",
      "  _warn_prf(average, modifier, f\"{metric.capitalize()} is\", len(result))\n",
      "/Users/saiajaychilakala/AI-PersonalFinanceTracker-ML/.venv/lib/python3.10/site-packages/sklearn/metrics/_classification.py:1565: UndefinedMetricWarning: Precision is ill-defined and being set to 0.0 in labels with no predicted samples. Use `zero_division` parameter to control this behavior.\n",
      "  _warn_prf(average, modifier, f\"{metric.capitalize()} is\", len(result))\n"
     ]
    },
    {
     "data": {
      "text/plain": [
       "<Figure size 1200x800 with 2 Axes>"
      ],
      "image/png": "[encoded data removed]"
     },
     "metadata": {},
     "output_type": "display_data"
    }
   ],
   "execution_count": 26
  },
  {
   "metadata": {
    "ExecuteTime": {
     "end_time": "2025-03-15T05:24:19.921539Z",
     "start_time": "2025-03-15T05:24:19.891084Z"
    }
   },
   "cell_type": "code",
   "source": [
    "from tensorflow.keras.models import load_model\n",
    "\n",
    "# Load the previously trained LSTM model\n",
    "model = load_model(\"../data/models/lstm_model.h5\")\n",
    "\n",
    "print(\" Saved LSTM Model Loaded Successfully!\")"
   ],
   "id": "dd54758ffba74db1",
   "outputs": [
    {
     "name": "stderr",
     "output_type": "stream",
     "text": [
      "WARNING:absl:Compiled the loaded model, but the compiled metrics have yet to be built. `model.compile_metrics` will be empty until you train or evaluate the model.\n"
     ]
    },
    {
     "name": "stdout",
     "output_type": "stream",
     "text": [
      " Saved LSTM Model Loaded Successfully!\n"
     ]
    }
   ],
   "execution_count": 30
  },
  {
   "metadata": {
    "ExecuteTime": {
     "end_time": "2025-03-15T05:24:23.391903Z",
     "start_time": "2025-03-15T05:24:23.386611Z"
    }
   },
   "cell_type": "code",
   "source": [
    "import numpy as np\n",
    "from tensorflow.keras.preprocessing.sequence import pad_sequences\n",
    "import pickle\n",
    "\n",
    "# Load the tokenizer used during training\n",
    "with open(\"../data/models/tokenizer.pkl\", \"rb\") as handle:\n",
    "    tokenizer = pickle.load(handle)\n",
    "\n",
    "# Example new transaction descriptions\n",
    "new_transactions = [\n",
    "    \"Starbucks coffee purchase\",\n",
    "    \"Monthly rent payment\",\n",
    "    \"Uber ride home\",\n",
    "    \"Grocery shopping at Walmart\",\n",
    "    \"Netflix subscription renewal\"\n",
    "]\n",
    "\n",
    "# Convert text to sequences\n",
    "new_sequences = tokenizer.texts_to_sequences(new_transactions)\n",
    "\n",
    "# Pad sequences to match training length\n",
    "new_padded = pad_sequences(new_sequences, maxlen=50, padding=\"post\")\n",
    "\n",
    "print(\" New Transactions Processed Successfully!\")"
   ],
   "id": "613aa115f2844beb",
   "outputs": [
    {
     "name": "stdout",
     "output_type": "stream",
     "text": [
      " New Transactions Processed Successfully!\n"
     ]
    }
   ],
   "execution_count": 32
  },
  {
   "metadata": {
    "ExecuteTime": {
     "end_time": "2025-03-15T05:24:26.450643Z",
     "start_time": "2025-03-15T05:24:26.372998Z"
    }
   },
   "cell_type": "code",
   "source": [
    "# Predict probabilities for each class\n",
    "predictions = model.predict(new_padded)\n",
    "\n",
    "# Convert probabilities to class labels\n",
    "predicted_classes = np.argmax(predictions, axis=1)\n",
    "\n",
    "print(\"Predicted Classes:\", predicted_classes)"
   ],
   "id": "766e8d1a790cded9",
   "outputs": [
    {
     "name": "stdout",
     "output_type": "stream",
     "text": [
      "\u001B[1m1/1\u001B[0m \u001B[32m━━━━━━━━━━━━━━━━━━━━\u001B[0m\u001B[37m\u001B[0m \u001B[1m0s\u001B[0m 55ms/step\n",
      "Predicted Classes: [100  98  29  81  14]\n"
     ]
    }
   ],
   "execution_count": 33
  },
  {
   "metadata": {
    "ExecuteTime": {
     "end_time": "2025-03-15T05:25:45.631496Z",
     "start_time": "2025-03-15T05:25:45.445798Z"
    }
   },
   "cell_type": "code",
   "source": [
    "import pandas as pd\n",
    "\n",
    "# Load category mapping (Assuming you have a CSV with category mappings)\n",
    "category_mapping = pd.read_csv(\"../data/processed_data/processed_data.csv\")\n",
    "\n",
    "# Convert label IDs to category names\n",
    "predicted_categories = [category_mapping.iloc[label][\"mcc_category\"] for label in predicted_classes]\n",
    "\n",
    "# Display results\n",
    "for transaction, category in zip(new_transactions, predicted_categories):\n",
    "    print(f\"Transaction: '{transaction}' → Predicted Category: {category}\")"
   ],
   "id": "2c6c1238d18d9fdb",
   "outputs": [
    {
     "name": "stdout",
     "output_type": "stream",
     "text": [
      "Transaction: 'Starbucks coffee purchase' → Predicted Category: Local and Suburban Commuter Transportation\n",
      "Transaction: 'Monthly rent payment' → Predicted Category: Service Stations\n",
      "Transaction: 'Uber ride home' → Predicted Category: Service Stations\n",
      "Transaction: 'Grocery shopping at Walmart' → Predicted Category: Service Stations\n",
      "Transaction: 'Netflix subscription renewal' → Predicted Category: Grocery Stores, Supermarkets\n"
     ]
    }
   ],
   "execution_count": 43
  }
 ],
 "metadata": {
  "kernelspec": {
   "display_name": "Python 3",
   "language": "python",
   "name": "python3"
  },
  "language_info": {
   "codemirror_mode": {
    "name": "ipython",
    "version": 2
   },
   "file_extension": ".py",
   "mimetype": "text/x-python",
   "name": "python",
   "nbconvert_exporter": "python",
   "pygments_lexer": "ipython2",
   "version": "2.7.6"
  }
 },
 "nbformat": 4,
 "nbformat_minor": 5
}
